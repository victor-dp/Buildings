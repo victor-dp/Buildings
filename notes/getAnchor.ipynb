{
 "cells": [
  {
   "cell_type": "code",
   "execution_count": 1,
   "metadata": {},
   "outputs": [],
   "source": [
    "import numpy  as np\n",
    "import math"
   ]
  },
  {
   "cell_type": "code",
   "execution_count": 2,
   "metadata": {},
   "outputs": [],
   "source": [
    "# Anchors 中def create_anchors(scales,ratios,shape,feature_stride,anchor_stride)\n",
    "scales = 32\n",
    "ratios = [0.5, 1, 2]\n",
    "shape = (256, 256)\n",
    "feature_stride = 4\n",
    "anchor_stride = 1"
   ]
  },
  {
   "cell_type": "code",
   "execution_count": 3,
   "metadata": {},
   "outputs": [
    {
     "name": "stdout",
     "output_type": "stream",
     "text": [
      "[[32]\n",
      " [32]\n",
      " [32]]\n",
      "[[0.5]\n",
      " [1. ]\n",
      " [2. ]]\n"
     ]
    }
   ],
   "source": [
    "scales, ratios = np.meshgrid(np.array(scales),np.array(ratios))\n",
    "print(scales)\n",
    "print(ratios)"
   ]
  },
  {
   "cell_type": "code",
   "execution_count": 4,
   "metadata": {},
   "outputs": [
    {
     "name": "stdout",
     "output_type": "stream",
     "text": [
      "[32 32 32]\n",
      "[0.5 1.  2. ]\n"
     ]
    }
   ],
   "source": [
    "scales = scales.flatten()\n",
    "ratios = ratios.flatten()\n",
    "print(scales)\n",
    "print(ratios)"
   ]
  },
  {
   "cell_type": "code",
   "execution_count": 5,
   "metadata": {},
   "outputs": [
    {
     "name": "stdout",
     "output_type": "stream",
     "text": [
      "[45.254834 32.       22.627417]\n",
      "[22.627417 32.       45.254834]\n"
     ]
    }
   ],
   "source": [
    "heights = scales / np.sqrt(ratios)\n",
    "widths = scales * np.sqrt(ratios)\n",
    "print(heights)\n",
    "print(widths)"
   ]
  },
  {
   "cell_type": "code",
   "execution_count": 10,
   "metadata": {},
   "outputs": [
    {
     "name": "stdout",
     "output_type": "stream",
     "text": [
      "[   0    4    8   12   16   20   24   28   32   36   40   44   48   52\n",
      "   56   60   64   68   72   76   80   84   88   92   96  100  104  108\n",
      "  112  116  120  124  128  132  136  140  144  148  152  156  160  164\n",
      "  168  172  176  180  184  188  192  196  200  204  208  212  216  220\n",
      "  224  228  232  236  240  244  248  252  256  260  264  268  272  276\n",
      "  280  284  288  292  296  300  304  308  312  316  320  324  328  332\n",
      "  336  340  344  348  352  356  360  364  368  372  376  380  384  388\n",
      "  392  396  400  404  408  412  416  420  424  428  432  436  440  444\n",
      "  448  452  456  460  464  468  472  476  480  484  488  492  496  500\n",
      "  504  508  512  516  520  524  528  532  536  540  544  548  552  556\n",
      "  560  564  568  572  576  580  584  588  592  596  600  604  608  612\n",
      "  616  620  624  628  632  636  640  644  648  652  656  660  664  668\n",
      "  672  676  680  684  688  692  696  700  704  708  712  716  720  724\n",
      "  728  732  736  740  744  748  752  756  760  764  768  772  776  780\n",
      "  784  788  792  796  800  804  808  812  816  820  824  828  832  836\n",
      "  840  844  848  852  856  860  864  868  872  876  880  884  888  892\n",
      "  896  900  904  908  912  916  920  924  928  932  936  940  944  948\n",
      "  952  956  960  964  968  972  976  980  984  988  992  996 1000 1004\n",
      " 1008 1012 1016 1020]\n",
      "[   0    4    8   12   16   20   24   28   32   36   40   44   48   52\n",
      "   56   60   64   68   72   76   80   84   88   92   96  100  104  108\n",
      "  112  116  120  124  128  132  136  140  144  148  152  156  160  164\n",
      "  168  172  176  180  184  188  192  196  200  204  208  212  216  220\n",
      "  224  228  232  236  240  244  248  252  256  260  264  268  272  276\n",
      "  280  284  288  292  296  300  304  308  312  316  320  324  328  332\n",
      "  336  340  344  348  352  356  360  364  368  372  376  380  384  388\n",
      "  392  396  400  404  408  412  416  420  424  428  432  436  440  444\n",
      "  448  452  456  460  464  468  472  476  480  484  488  492  496  500\n",
      "  504  508  512  516  520  524  528  532  536  540  544  548  552  556\n",
      "  560  564  568  572  576  580  584  588  592  596  600  604  608  612\n",
      "  616  620  624  628  632  636  640  644  648  652  656  660  664  668\n",
      "  672  676  680  684  688  692  696  700  704  708  712  716  720  724\n",
      "  728  732  736  740  744  748  752  756  760  764  768  772  776  780\n",
      "  784  788  792  796  800  804  808  812  816  820  824  828  832  836\n",
      "  840  844  848  852  856  860  864  868  872  876  880  884  888  892\n",
      "  896  900  904  908  912  916  920  924  928  932  936  940  944  948\n",
      "  952  956  960  964  968  972  976  980  984  988  992  996 1000 1004\n",
      " 1008 1012 1016 1020]\n",
      "[[   0    4    8 ... 1012 1016 1020]\n",
      " [   0    4    8 ... 1012 1016 1020]\n",
      " [   0    4    8 ... 1012 1016 1020]\n",
      " ...\n",
      " [   0    4    8 ... 1012 1016 1020]\n",
      " [   0    4    8 ... 1012 1016 1020]\n",
      " [   0    4    8 ... 1012 1016 1020]]\n",
      "len: 256\n",
      "[[   0    0    0 ...    0    0    0]\n",
      " [   4    4    4 ...    4    4    4]\n",
      " [   8    8    8 ...    8    8    8]\n",
      " ...\n",
      " [1012 1012 1012 ... 1012 1012 1012]\n",
      " [1016 1016 1016 ... 1016 1016 1016]\n",
      " [1020 1020 1020 ... 1020 1020 1020]]\n",
      "len: 256\n"
     ]
    }
   ],
   "source": [
    "shifts_y = np.arange(0, shape[0], anchor_stride) * feature_stride\n",
    "print(shifts_y)\n",
    "shifts_x = np.arange(0, shape[1], anchor_stride) * feature_stride\n",
    "print(shifts_x)\n",
    "shifts_x, shifts_y = np.meshgrid(shifts_x, shifts_y)\n",
    "print(shifts_x)\n",
    "print(\"len:\",len(shifts_x))\n",
    "print(shifts_y)\n",
    "print(\"len:\",len(shifts_y))"
   ]
  },
  {
   "cell_type": "code",
   "execution_count": 11,
   "metadata": {},
   "outputs": [
    {
     "name": "stdout",
     "output_type": "stream",
     "text": [
      "box_widths\n",
      " [[22.627417 32.       45.254834]\n",
      " [22.627417 32.       45.254834]\n",
      " [22.627417 32.       45.254834]\n",
      " ...\n",
      " [22.627417 32.       45.254834]\n",
      " [22.627417 32.       45.254834]\n",
      " [22.627417 32.       45.254834]]\n",
      "box_centers_x\n",
      " [[   0    0    0]\n",
      " [   4    4    4]\n",
      " [   8    8    8]\n",
      " ...\n",
      " [1012 1012 1012]\n",
      " [1016 1016 1016]\n",
      " [1020 1020 1020]]\n",
      "box_heights\n",
      " [[45.254834 32.       22.627417]\n",
      " [45.254834 32.       22.627417]\n",
      " [45.254834 32.       22.627417]\n",
      " ...\n",
      " [45.254834 32.       22.627417]\n",
      " [45.254834 32.       22.627417]\n",
      " [45.254834 32.       22.627417]]\n",
      "len: 65536\n",
      "box_centers_y\n",
      " [[   0    0    0]\n",
      " [   0    0    0]\n",
      " [   0    0    0]\n",
      " ...\n",
      " [1020 1020 1020]\n",
      " [1020 1020 1020]\n",
      " [1020 1020 1020]]\n",
      "len: 65536\n"
     ]
    }
   ],
   "source": [
    "box_widths, box_centers_x = np.meshgrid(widths, shifts_x)\n",
    "print(\"box_widths\\n\",box_widths)\n",
    "print(\"box_centers_x\\n\", box_centers_x)\n",
    "box_heights, box_centers_y = np.meshgrid(heights, shifts_y)\n",
    "print(\"box_heights\\n\",box_heights)\n",
    "print(\"len:\",len(box_heights))\n",
    "print(\"box_centers_y\\n\",box_centers_y)\n",
    "print(\"len:\",len(box_centers_y))"
   ]
  },
  {
   "cell_type": "code",
   "execution_count": 12,
   "metadata": {},
   "outputs": [
    {
     "name": "stdout",
     "output_type": "stream",
     "text": [
      "[[   0    0]\n",
      " [   0    0]\n",
      " [   0    0]\n",
      " ...\n",
      " [1020 1020]\n",
      " [1020 1020]\n",
      " [1020 1020]]\n",
      "196608\n"
     ]
    }
   ],
   "source": [
    "box_centers = np.stack([box_centers_y, box_centers_x], axis=2).reshape([-1, 2])\n",
    "print(box_centers)\n",
    "print(len(box_centers))"
   ]
  },
  {
   "cell_type": "code",
   "execution_count": 13,
   "metadata": {},
   "outputs": [
    {
     "name": "stdout",
     "output_type": "stream",
     "text": [
      "[[   0    0]\n",
      " [   0    0]\n",
      " [   0    0]\n",
      " ...\n",
      " [1020 1020]\n",
      " [1020 1020]\n",
      " [1020 1020]]\n",
      "196608\n"
     ]
    }
   ],
   "source": [
    "box_centers = np.stack([box_centers_y, box_centers_x], axis=2).reshape([-1, 2])\n",
    "print(box_centers)\n",
    "print(len(box_centers))"
   ]
  },
  {
   "cell_type": "code",
   "execution_count": null,
   "metadata": {},
   "outputs": [],
   "source": []
  }
 ],
 "metadata": {
  "kernelspec": {
   "display_name": "Python 3",
   "language": "python",
   "name": "python3"
  },
  "language_info": {
   "codemirror_mode": {
    "name": "ipython",
    "version": 3
   },
   "file_extension": ".py",
   "mimetype": "text/x-python",
   "name": "python",
   "nbconvert_exporter": "python",
   "pygments_lexer": "ipython3",
   "version": "3.6.8"
  }
 },
 "nbformat": 4,
 "nbformat_minor": 2
}
