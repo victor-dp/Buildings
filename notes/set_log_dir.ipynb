{
 "cells": [
  {
   "cell_type": "code",
   "execution_count": 21,
   "metadata": {},
   "outputs": [
    {
     "name": "stdout",
     "output_type": "stream",
     "text": [
      "2019-08-19 17:04:52.252970\n",
      "2017\n",
      "10\n",
      "29\n",
      "23\n",
      "15\n",
      "1\n"
     ]
    }
   ],
   "source": [
    "import datetime\n",
    "now = datetime.datetime.now()\n",
    "print(now)\n",
    "\n",
    "\n",
    "regex = r\".*/\\w+(\\d{4})(\\d{2})(\\d{2})T(\\d{2})(\\d{2})/mask\\_rcnn\\_\\w+(\\d{4})\\.pth\"\n",
    "m = re.match(regex, \"/path/to/logs/coco20171029T2315/mask_rcnn_coco_0001.pth\")\n",
    "if m:\n",
    "    print(m.group(1))\n",
    "    print(m.group(2))\n",
    "    print(m.group(3))\n",
    "    print(m.group(4))\n",
    "    print(m.group(5))\n",
    "    now = datetime.datetime(\n",
    "        int(m.group(1)), int(m.group(2)), int(m.group(3)),\n",
    "        int(m.group(4)), int(m.group(5)))\n",
    "    print(int(m.group(6)))\n"
   ]
  },
  {
   "cell_type": "code",
   "execution_count": null,
   "metadata": {},
   "outputs": [],
   "source": [
    "def set_log_dir(self, model_path=None):\n",
    "    \"\"\"Sets the model log directory and epoch counter.\n",
    "\n",
    "    model_path: If None, or a format different from what this code uses\n",
    "        then set a new log directory and start epochs from 0. Otherwise,\n",
    "        extract the log directory and the epoch counter from the file\n",
    "        name.\n",
    "    \"\"\"\n",
    "\n",
    "    # Set date and epoch counter as if starting a new model\n",
    "    self.epoch = 0\n",
    "    now = datetime.datetime.now()\n",
    "\n",
    "    # If we have a model path with date and epochs use them\n",
    "    if model_path:\n",
    "        # Continue from we left of. Get epoch and date from the file name\n",
    "        # A sample model path might look like:\n",
    "        # /path/to/logs/coco20171029T2315/mask_rcnn_coco_0001.h5\n",
    "        regex = r\".*/\\w+(\\d{4})(\\d{2})(\\d{2})T(\\d{2})(\\d{2})/mask\\_rcnn\\_\\w+(\\d{4})\\.pth\"\n",
    "        m = re.match(regex, model_path)\n",
    "        if m:\n",
    "            now = datetime.datetime(\n",
    "                int(m.group(1)), int(m.group(2)), int(m.group(3)),\n",
    "                int(m.group(4)), int(m.group(5)))\n",
    "            self.epoch = int(m.group(6))\n",
    "\n",
    "    # Directory for training logs\n",
    "    self.log_dir = os.path.join(\n",
    "        self.model_dir, \"{}{:%Y%m%dT%H%M}\".format(self.config.NAME.lower(), now))\n",
    "    os.makedirs(self.log_dir, exist_ok=True)\n",
    "\n",
    "    # Path to save after each epoch. Include placeholders that get filled by Keras.\n",
    "    self.checkpoint_path = os.path.join(\n",
    "        self.log_dir,\n",
    "        \"mask_rcnn_{}_*epoch*.pth\".format(self.config.NAME.lower()))\n",
    "    self.checkpoint_path = self.checkpoint_path.replace(\n",
    "        \"*epoch*\", \"{:04d}\")"
   ]
  }
 ],
 "metadata": {
  "kernelspec": {
   "display_name": "Python 3",
   "language": "python",
   "name": "python3"
  },
  "language_info": {
   "codemirror_mode": {
    "name": "ipython",
    "version": 3
   },
   "file_extension": ".py",
   "mimetype": "text/x-python",
   "name": "python",
   "nbconvert_exporter": "python",
   "pygments_lexer": "ipython3",
   "version": "3.6.8"
  }
 },
 "nbformat": 4,
 "nbformat_minor": 2
}
